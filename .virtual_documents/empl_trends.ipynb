import pandas as pd
import numpy as np
import matplotlib as mpl
import matplotlib.pyplot as plt
import plotly.offline as pyo
import plotly.graph_objs as go
import plotly.io as pio

mpl.style.use('dark_background')
pio.templates.default = 'plotly_dark'

empl_sector_per_file = 'datasets/share-of-employment-in-agriculture-industry-and-services.csv'
empl_sector_pop_file = 'datasets/employment-by-economic-sector.csv'
sector_gdp_file = 'datasets/composition-of-national-gross-domestic-product-by-sector.csv'

empl_per = pd.read_csv(empl_sector_per_file)
empl_pop = pd.read_csv(empl_sector_pop_file)
sect_gdp = pd.read_csv(sector_gdp_file)


empl_per.head()


empl_per.size


empl_per_usa = empl_per.loc[empl_per['Entity'] == 'United States'].copy()
empl_per_usa.head()


empl_per.columns


sectors = empl_per_usa.columns.values.tolist()[3:6]

data = [go.Scatter(x=empl_per_usa.Year, y=empl_per_usa[sector], mode='lines', name=sector.split()[2]) for sector in sectors]
layout = go.Layout(title='Employment in agriculture, industry, and services')
fig = go.Figure(data=data,layout=layout)

pyo.iplot(fig)


empl_pop.head()


empl_pop_usa = empl_pop.loc[empl_pop['Entity'] == 'United States'].copy()
empl_pop_usa


sectors = empl_pop_usa.columns.values.tolist()[3:]

data = [go.Scatter(x=empl_pop_usa.Year, y=empl_pop_usa[sector], mode='lines', name=sector.split()[5]) for sector in sectors]
layout = go.Layout(title='Number of people employed in agriculture, industry, and services')
fig = go.Figure(data=data,layout=layout)

pyo.iplot(fig)


empl_pop.info()


sect_gdp_usa = sect_gdp[sect_gdp.Entity == 'United States']
sect_gdp_usa


sectors = sect_gdp_usa.columns.values.tolist()[3:]

data = [go.Scatter(x=sect_gdp_usa.Year, y=sect_gdp_usa[sector], mode='lines', name=sector.split()[2]) for sector in sectors]
layout = go.Layout(title='Share of US National GDP by the agriculture, industry, and services sectors')
fig = go.Figure(data=data,layout=layout)

pyo.iplot(fig)
